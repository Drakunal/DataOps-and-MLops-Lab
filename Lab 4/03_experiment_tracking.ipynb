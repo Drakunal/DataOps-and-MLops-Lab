{
 "cells": [
  {
   "cell_type": "code",
   "execution_count": 1,
   "id": "345fd058",
   "metadata": {},
   "outputs": [],
   "source": [
    "import mlflow\n",
    "import pandas as pd\n",
    "\n",
    "# Load preprocessed data\n",
    "X_test_scaled = pd.read_csv('X_test_scaled.csv')\n",
    "y_test = pd.read_csv('y_test.csv')\n",
    "\n",
    "# Load the trained model\n",
    "model = mlflow.sklearn.load_model('iris_model')\n",
    "\n",
    "# Evaluate the model\n",
    "accuracy = model.score(X_test_scaled, y_test)\n",
    "\n",
    "# Log the experiment\n",
    "with mlflow.start_run() as run:\n",
    "    mlflow.log_metric('accuracy', accuracy)\n"
   ]
  },
  {
   "cell_type": "code",
   "execution_count": 2,
   "id": "41811cd9",
   "metadata": {},
   "outputs": [
    {
     "data": {
      "image/png": "[encoded data removed]",
      "text/plain": [
       "<Figure size 800x600 with 2 Axes>"
      ]
     },
     "metadata": {},
     "output_type": "display_data"
    }
   ],
   "source": [
    "import mlflow\n",
    "import pandas as pd\n",
    "import matplotlib.pyplot as plt\n",
    "from sklearn.metrics import classification_report, confusion_matrix\n",
    "\n",
    "# Load preprocessed data\n",
    "X_test_scaled = pd.read_csv('X_test_scaled.csv')\n",
    "y_test = pd.read_csv('y_test.csv')\n",
    "\n",
    "# Load the trained model\n",
    "model = mlflow.sklearn.load_model('iris_model')\n",
    "\n",
    "# Evaluate the model\n",
    "accuracy = model.score(X_test_scaled, y_test)\n",
    "y_pred = model.predict(X_test_scaled)\n",
    "classification_rep = classification_report(y_test, y_pred)\n",
    "\n",
    "# Log the experiment\n",
    "with mlflow.start_run() as run:\n",
    "    mlflow.log_metric('accuracy', accuracy)\n",
    "    \n",
    "    # Log classification report as text\n",
    "    mlflow.log_text(classification_rep, 'classification_report.txt')\n",
    "    \n",
    "    # Log confusion matrix as image\n",
    "    plt.figure(figsize=(8, 6))\n",
    "    cm = confusion_matrix(y_test, y_pred)\n",
    "    plt.imshow(cm, interpolation='nearest', cmap=plt.cm.Blues)\n",
    "    plt.title('Confusion Matrix')\n",
    "    plt.colorbar()\n",
    "    plt.xticks(range(3), y_test['species'].unique(), rotation=45)\n",
    "    plt.yticks(range(3), y_test['species'].unique())\n",
    "    plt.ylabel('True label')\n",
    "    plt.xlabel('Predicted label')\n",
    "    plt.tight_layout()\n",
    "    \n",
    "    # Save confusion matrix plot as an image\n",
    "    confusion_matrix_path = 'confusion_matrix.png'\n",
    "    plt.savefig(confusion_matrix_path)\n",
    "    \n",
    "    # Log the confusion matrix image as an artifact\n",
    "    mlflow.log_artifact(confusion_matrix_path)\n",
    "    \n",
    "    # Log hyperparameters as parameters\n",
    "    mlflow.log_param('n_estimators', 100)\n",
    "    mlflow.log_param('random_state', 42)\n"
   ]
  },
  {
   "cell_type": "code",
   "execution_count": 5,
   "id": "0915a2d9",
   "metadata": {},
   "outputs": [
    {
     "name": "stderr",
     "output_type": "stream",
     "text": [
      "C:\\Users\\DELL\\AppData\\Local\\Packages\\PythonSoftwareFoundation.Python.3.10_qbz5n2kfra8p0\\LocalCache\\local-packages\\Python310\\site-packages\\sklearn\\base.py:1151: DataConversionWarning: A column-vector y was passed when a 1d array was expected. Please change the shape of y to (n_samples,), for example using ravel().\n",
      "  return fit_method(estimator, *args, **kwargs)\n",
      "C:\\Users\\DELL\\AppData\\Local\\Packages\\PythonSoftwareFoundation.Python.3.10_qbz5n2kfra8p0\\LocalCache\\local-packages\\Python310\\site-packages\\sklearn\\ensemble\\_gb.py:424: DataConversionWarning: A column-vector y was passed when a 1d array was expected. Please change the shape of y to (n_samples, ), for example using ravel().\n",
      "  y = column_or_1d(y, warn=True)\n",
      "C:\\Users\\DELL\\AppData\\Local\\Packages\\PythonSoftwareFoundation.Python.3.10_qbz5n2kfra8p0\\LocalCache\\local-packages\\Python310\\site-packages\\sklearn\\utils\\validation.py:1184: DataConversionWarning: A column-vector y was passed when a 1d array was expected. Please change the shape of y to (n_samples, ), for example using ravel().\n",
      "  y = column_or_1d(y, warn=True)\n",
      "C:\\Users\\DELL\\AppData\\Local\\Packages\\PythonSoftwareFoundation.Python.3.10_qbz5n2kfra8p0\\LocalCache\\local-packages\\Python310\\site-packages\\sklearn\\utils\\validation.py:1184: DataConversionWarning: A column-vector y was passed when a 1d array was expected. Please change the shape of y to (n_samples, ), for example using ravel().\n",
      "  y = column_or_1d(y, warn=True)\n"
     ]
    },
    {
     "name": "stdout",
     "output_type": "stream",
     "text": [
      "View the results in the MLflow UI: http://127.0.0.1:5000\n"
     ]
    }
   ],
   "source": [
    "import mlflow\n",
    "import pandas as pd\n",
    "from sklearn.ensemble import RandomForestClassifier, GradientBoostingClassifier\n",
    "from sklearn.linear_model import LogisticRegression\n",
    "from sklearn.svm import SVC\n",
    "from sklearn.metrics import classification_report\n",
    "import matplotlib.pyplot as plt\n",
    "\n",
    "# Load preprocessed data\n",
    "X_test_scaled = pd.read_csv('X_test_scaled.csv')\n",
    "y_test = pd.read_csv('y_test.csv')\n",
    "X_train_scaled = pd.read_csv('X_train_scaled.csv')\n",
    "y_train = pd.read_csv('y_train.csv')\n",
    "# List of models to train\n",
    "models = [\n",
    "    ('RandomForest', RandomForestClassifier(n_estimators=100, random_state=42)),\n",
    "    ('GradientBoosting', GradientBoostingClassifier(n_estimators=100, random_state=42)),\n",
    "    ('LogisticRegression', LogisticRegression(max_iter=1000, random_state=42)),\n",
    "    ('SVM', SVC(kernel='linear', random_state=42)),\n",
    "]\n",
    "\n",
    "# Perform model training and comparison\n",
    "for model_name, model in models:\n",
    "    with mlflow.start_run(run_name=model_name) as run:\n",
    "        model.fit(X_train_scaled, y_train)\n",
    "        accuracy = model.score(X_test_scaled, y_test)\n",
    "        y_pred = model.predict(X_test_scaled)\n",
    "        classification_rep = classification_report(y_test, y_pred)\n",
    "\n",
    "        mlflow.log_metric('accuracy', accuracy)\n",
    "        mlflow.log_param('n_estimators', 100)  # For RandomForest and GradientBoosting\n",
    "        mlflow.log_param('max_iter', 1000)      # For LogisticRegression\n",
    "        mlflow.log_param('kernel', 'linear')    # For SVM\n",
    "        mlflow.log_param('random_state', 42)\n",
    "        mlflow.log_text(classification_rep, 'classification_report.txt')\n",
    "\n",
    "# Compare models using the MLflow UI\n",
    "mlflow_ui_url = \"http://127.0.0.1:5000\"  # Replace with your MLflow UI URL\n",
    "print(f\"View the results in the MLflow UI: {mlflow_ui_url}\")\n"
   ]
  },
  {
   "cell_type": "code",
   "execution_count": null,
   "id": "99bae55b",
   "metadata": {},
   "outputs": [],
   "source": []
  }
 ],
 "metadata": {
  "kernelspec": {
   "display_name": "Python 3 (ipykernel)",
   "language": "python",
   "name": "python3"
  },
  "language_info": {
   "codemirror_mode": {
    "name": "ipython",
    "version": 3
   },
   "file_extension": ".py",
   "mimetype": "text/x-python",
   "name": "python",
   "nbconvert_exporter": "python",
   "pygments_lexer": "ipython3",
   "version": "3.10.11"
  }
 },
 "nbformat": 4,
 "nbformat_minor": 5
}
