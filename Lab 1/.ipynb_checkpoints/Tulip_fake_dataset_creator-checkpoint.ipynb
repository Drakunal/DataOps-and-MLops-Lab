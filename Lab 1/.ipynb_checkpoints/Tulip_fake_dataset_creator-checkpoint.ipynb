{
 "cells": [
  {
   "cell_type": "code",
   "execution_count": 2,
   "id": "b2867b90",
   "metadata": {},
   "outputs": [
    {
     "name": "stdout",
     "output_type": "stream",
     "text": [
      "                Name   Color  Height (cm)  Petal Length (cm)  Petal Width (cm)\n",
      "0  Stephen Rodriguez     Red    15.375161           4.100117          1.334816\n",
      "1       Mark Chapman     Red    25.150492           6.568718          1.130408\n",
      "2    Kelsey Gallegos   White    15.476740           3.374781          1.348991\n",
      "3     Brandon Fisher  Purple    15.398040           3.795351          1.974827\n",
      "4        Carl Garcia  Purple    21.292797           4.796836          1.417286\n"
     ]
    }
   ],
   "source": [
    "from faker import Faker\n",
    "import random\n",
    "import pandas as pd\n",
    "\n",
    "# Create an instance of Faker\n",
    "fake = Faker()\n",
    "\n",
    "# Set the random seed for reproducibility (optional)\n",
    "random.seed(42)\n",
    "\n",
    "# Define the number of tulip samples to generate\n",
    "num_samples = 200\n",
    "\n",
    "# Generate tulip data\n",
    "tulip_data = []\n",
    "for _ in range(num_samples):\n",
    "    # Generate fake tulip attributes\n",
    "    name = random.choice(['Viridiflora Tulips', 'Rembrandt Tulips', 'Parrot Tulips', 'Fringed Tulips'])\n",
    "    color = random.choice(['Red', 'Yellow', 'Pink', 'White', 'Purple'])\n",
    "    height = random.uniform(15.0, 30.0)\n",
    "    petal_length = random.uniform(3.0, 7.0)\n",
    "    petal_width = random.uniform(1.0, 2.5)\n",
    "\n",
    "    # Create a tulip record\n",
    "    tulip = {\n",
    "        'Name': name,\n",
    "        'Color': color,\n",
    "        'Height (cm)': height,\n",
    "        'Petal Length (cm)': petal_length,\n",
    "        'Petal Width (cm)': petal_width\n",
    "    }\n",
    "\n",
    "    # Add the tulip record to the list\n",
    "    tulip_data.append(tulip)\n",
    "\n",
    "# Create a pandas DataFrame from the tulip data\n",
    "df_tulips = pd.DataFrame(tulip_data)\n",
    "\n",
    "# Print the generated tulip data\n",
    "print(df_tulips.head())\n",
    "df_tulips.to_csv('tulip_data.csv')"
   ]
  },
  {
   "cell_type": "code",
   "execution_count": null,
   "id": "e25ff7c1",
   "metadata": {},
   "outputs": [],
   "source": []
  }
 ],
 "metadata": {
  "kernelspec": {
   "display_name": "Python 3 (ipykernel)",
   "language": "python",
   "name": "python3"
  },
  "language_info": {
   "codemirror_mode": {
    "name": "ipython",
    "version": 3
   },
   "file_extension": ".py",
   "mimetype": "text/x-python",
   "name": "python",
   "nbconvert_exporter": "python",
   "pygments_lexer": "ipython3",
   "version": "3.10.11"
  }
 },
 "nbformat": 4,
 "nbformat_minor": 5
}
