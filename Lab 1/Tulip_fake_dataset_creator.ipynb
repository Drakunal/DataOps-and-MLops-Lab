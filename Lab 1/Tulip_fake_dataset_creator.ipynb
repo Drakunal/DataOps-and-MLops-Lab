{
 "cells": [
  {
   "cell_type": "code",
   "execution_count": 4,
   "id": "e462073f",
   "metadata": {},
   "outputs": [
    {
     "name": "stdout",
     "output_type": "stream",
     "text": [
      "                 Name   Color  Height (cm)  Petal Length (cm)  \\\n",
      "0  Viridiflora Tulips     Red    26.123257           3.979567   \n",
      "1  Viridiflora Tulips  Purple    16.304082           4.687687   \n",
      "2    Rembrandt Tulips  Yellow    22.580329           3.106144   \n",
      "3      Fringed Tulips  Yellow    21.738136           4.112763   \n",
      "4    Rembrandt Tulips   White    20.103758           3.621918   \n",
      "\n",
      "   Petal Width (cm)  \n",
      "0          1.209307  \n",
      "1          1.044696  \n",
      "2          1.298256  \n",
      "3          2.303950  \n",
      "4          2.435820  \n"
     ]
    }
   ],
   "source": [
    "from faker import Faker\n",
    "import random\n",
    "import pandas as pd\n",
    "\n",
    "# Create an instance of Faker\n",
    "fake = Faker()\n",
    "\n",
    "# Set the random seed for reproducibility (optional)\n",
    "random.seed(42)\n",
    "\n",
    "# Define the number of tulip samples to generate\n",
    "num_samples = 200\n",
    "\n",
    "# Generate tulip data\n",
    "tulip_data = []\n",
    "for _ in range(num_samples):\n",
    "    # Generate fake tulip attributes\n",
    "    types = random.choice(['Viridiflora Tulips', 'Rembrandt Tulips', 'Parrot Tulips', 'Fringed Tulips'])\n",
    "    color = random.choice(['Red', 'Yellow', 'Pink', 'White', 'Purple'])\n",
    "    height = random.uniform(15.0, 30.0)\n",
    "    petal_length = random.uniform(3.0, 7.0)\n",
    "    petal_width = random.uniform(1.0, 2.5)\n",
    "\n",
    "    # Create a tulip record\n",
    "    tulip = {\n",
    "        'Name': types,\n",
    "        'Color': color,\n",
    "        'Height (cm)': height,\n",
    "        'Petal Length (cm)': petal_length,\n",
    "        'Petal Width (cm)': petal_width\n",
    "    }\n",
    "\n",
    "    # Add the tulip record to the list\n",
    "    tulip_data.append(tulip)\n",
    "\n",
    "# Create a pandas DataFrame from the tulip data\n",
    "df_tulips = pd.DataFrame(tulip_data)\n",
    "\n",
    "# Print the generated tulip data\n",
    "print(df_tulips.head())\n",
    "df_tulips.to_csv('tulip_data.csv')"
   ]
  },
  {
   "cell_type": "code",
   "execution_count": null,
   "id": "3e6fa314",
   "metadata": {},
   "outputs": [],
   "source": []
  }
 ],
 "metadata": {
  "kernelspec": {
   "display_name": "Python 3 (ipykernel)",
   "language": "python",
   "name": "python3"
  },
  "language_info": {
   "codemirror_mode": {
    "name": "ipython",
    "version": 3
   },
   "file_extension": ".py",
   "mimetype": "text/x-python",
   "name": "python",
   "nbconvert_exporter": "python",
   "pygments_lexer": "ipython3",
   "version": "3.10.11"
  }
 },
 "nbformat": 4,
 "nbformat_minor": 5
}
